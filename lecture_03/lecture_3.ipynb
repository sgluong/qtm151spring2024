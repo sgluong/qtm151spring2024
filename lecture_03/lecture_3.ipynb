{
 "cells": [
  {
   "attachments": {},
   "cell_type": "markdown",
   "metadata": {},
   "source": [
    "# <span style=\"color:darkblue\"> Lecture 3: Mathematical Operations and Random Numbers </span>"
   ]
  },
  {
   "attachments": {},
   "cell_type": "markdown",
   "metadata": {},
   "source": [
    "<font size=\"5\"> \n",
    "\n",
    "In the previous class we:\n",
    "- Introduced lists and variable types\n",
    "- Talked about how to extract elements from a list"
   ]
  },
  {
   "attachments": {},
   "cell_type": "markdown",
   "metadata": {},
   "source": [
    "<font size=\"5\"> \n",
    "\n",
    "In this class we will:\n",
    "\n",
    "- Introduce a library for general mathematical operations\n",
    "- Generate random numbers\n",
    "- (Optional) Matrix operations"
   ]
  },
  {
   "attachments": {},
   "cell_type": "markdown",
   "metadata": {},
   "source": [
    "## <span style=\"color:darkblue\"> I. Import Libraries </span>"
   ]
  },
  {
   "cell_type": "code",
   "execution_count": 1,
   "metadata": {},
   "outputs": [],
   "source": [
    "# the \"numPy\" library is used for mathematical operations\n",
    "# the \"matplotlib\" library is for generating graphs\n",
    "\n",
    "import numpy as np\n",
    "import matplotlib.pyplot as plt\n"
   ]
  },
  {
   "attachments": {},
   "cell_type": "markdown",
   "metadata": {},
   "source": [
    "##  <span style=\"color:darkblue\"> II. Numbers and Functions </span>"
   ]
  },
  {
   "attachments": {},
   "cell_type": "markdown",
   "metadata": {},
   "source": [
    "<font size = \"5\" >\n",
    "Examples of numPy numbers"
   ]
  },
  {
   "cell_type": "code",
   "execution_count": 2,
   "metadata": {},
   "outputs": [
    {
     "data": {
      "text/plain": [
       "3.141592653589793"
      ]
     },
     "execution_count": 2,
     "metadata": {},
     "output_type": "execute_result"
    }
   ],
   "source": [
    "# Computes \"pi\" (3.14...)\n",
    "\n",
    "np.pi"
   ]
  },
  {
   "attachments": {},
   "cell_type": "markdown",
   "metadata": {},
   "source": [
    "<font size = \"5\" >\n",
    "\n",
    "Examples of numPy functions\n",
    "\n",
    "$ ln(x), e^x, sin(x), cos(x), \\sqrt{x}$"
   ]
  },
  {
   "cell_type": "code",
   "execution_count": 3,
   "metadata": {},
   "outputs": [
    {
     "name": "stdout",
     "output_type": "stream",
     "text": [
      "0.0\n",
      "2.718281828459045\n",
      "0.8414709848078965\n",
      "0.5403023058681398\n",
      "1.0\n"
     ]
    }
   ],
   "source": [
    "# log(x) computes the logarithm with base \"e\" (Euler constant)\n",
    "# exp(x) compute the Euler constant raised to the power of \"x\"\n",
    "# sing(x) computes the sine of x\n",
    "# cos(x) computes the cosine of x\n",
    "# In this example, we're substituting x = 1\n",
    "\n",
    "print(np.log(1))\n",
    "print(np.exp(1))\n",
    "print(np.sin(1))\n",
    "print(np.cos(1))\n",
    "print(np.sqrt(1))"
   ]
  },
  {
   "cell_type": "markdown",
   "metadata": {},
   "source": [
    "<font size = \"5\">\n",
    "\n",
    "Raising to the power of a number\n",
    "\n",
    "$ x^5 $"
   ]
  },
  {
   "cell_type": "code",
   "execution_count": 6,
   "metadata": {},
   "outputs": [
    {
     "data": {
      "text/plain": [
       "100000"
      ]
     },
     "execution_count": 6,
     "metadata": {},
     "output_type": "execute_result"
    }
   ],
   "source": [
    "x = 10\n",
    "x ** 5\n",
    "\n",
    "# Not x^5"
   ]
  },
  {
   "attachments": {},
   "cell_type": "markdown",
   "metadata": {},
   "source": [
    "<font size = \"5\">\n",
    "\n",
    "Try it yourself!\n",
    "\n",
    "- Create a new variable, $x = 5$\n",
    "- Compute $\\pi x^2$\n",
    "- Compute $ \\frac{1}{\\sqrt{2\\pi}}e^{-x^2} $"
   ]
  },
  {
   "cell_type": "code",
<<<<<<< HEAD
   "execution_count": 7,
=======
   "execution_count": 9,
>>>>>>> e27c0eca97472415d050b2283cc07e60dbe3d0af
   "metadata": {},
   "outputs": [
    {
     "name": "stdout",
     "output_type": "stream",
     "text": [
      "78.53981633974483\n",
      "5.540487995575833e-12\n"
     ]
    }
   ],
   "source": [
    "# Write your own code\n",
<<<<<<< HEAD
    "x = 5\n",
    "print(np.pi * (x**2))\n",
    "print((1/np.sqrt(2 * np.pi)) * np.exp(-(x**2)))\n",
    "\n",
=======
    "\n",
    "x = 5\n",
    "print( np.pi * (x**2))\n",
    "\n",
    "print( (1/np.sqrt(2*np.pi))* np.exp(-x**2) )\n",
>>>>>>> e27c0eca97472415d050b2283cc07e60dbe3d0af
    "\n"
   ]
  },
  {
   "attachments": {},
   "cell_type": "markdown",
   "metadata": {},
   "source": [
    "##  <span style=\"color:darkblue\"> III. Vector Arrays </span>"
   ]
  },
  {
   "attachments": {},
   "cell_type": "markdown",
   "metadata": {},
   "source": [
    "<font size = \"5\">\n",
    "Create an array from a list\n",
    "\n",
    "$ \\text{ }$\n",
    "$ a = \\begin{pmatrix} 1 \\\\ 2 \\\\ 3 \\end{pmatrix}\n",
    "\\qquad b = \\begin{pmatrix} 0 \\\\ 1 \\\\ 0\\end{pmatrix}\n",
    "\\qquad c = \\begin{pmatrix} 10 \\\\ 100 \\\\ 1000 \\\\ 2000 \\\\ 5000 \\end{pmatrix} \n",
    "\\qquad d = \\begin{pmatrix} 4 \\\\ 2 \\end{pmatrix} $"
   ]
  },
  {
   "cell_type": "code",
<<<<<<< HEAD
   "execution_count": 8,
=======
   "execution_count": 11,
>>>>>>> e27c0eca97472415d050b2283cc07e60dbe3d0af
   "metadata": {},
   "outputs": [],
   "source": [
    "# You create an array by converting a list [1,2,3] to a numeric object\n",
    "# \"array\" is a subfunction of the library numPy.\n",
    "\n",
    "vec_a  = np.array([1,2,3])\n",
    "vec_b  = np.array([0,1,0])\n",
    "vec_c  = np.array([10,100,1000,2000,5000 ])\n"
   ]
  },
  {
   "attachments": {},
   "cell_type": "markdown",
   "metadata": {},
   "source": [
    "<font size = \"5\">\n",
    "\n",
    "Accessing an element of an array"
   ]
  },
  {
   "cell_type": "code",
<<<<<<< HEAD
   "execution_count": 9,
=======
   "execution_count": 13,
>>>>>>> e27c0eca97472415d050b2283cc07e60dbe3d0af
   "metadata": {},
   "outputs": [
    {
     "name": "stdout",
     "output_type": "stream",
     "text": [
      "1\n",
      "3\n"
     ]
    }
   ],
   "source": [
    "# Arrays, like lists, start their numbering at zero.\n",
    "# You also access them with square brackets\n",
    "\n",
    "print(vec_a[0])\n",
    "print(vec_a[2])\n"
   ]
  },
  {
   "attachments": {},
   "cell_type": "markdown",
   "metadata": {},
   "source": [
    "<font size = \"5\">\n",
    "Operations with a single array and a scalar"
   ]
  },
  {
   "attachments": {},
   "cell_type": "markdown",
   "metadata": {},
   "source": [
    "<font size = \"5\">\n",
    "\n",
    "$ a + 2 = \\begin{pmatrix} a_1 + 2 \\\\ a_2 + 2 \\\\ a_3 + 2 \\end{pmatrix}$"
   ]
  },
  {
   "cell_type": "code",
<<<<<<< HEAD
   "execution_count": 10,
=======
   "execution_count": 14,
>>>>>>> e27c0eca97472415d050b2283cc07e60dbe3d0af
   "metadata": {},
   "outputs": [
    {
     "name": "stdout",
     "output_type": "stream",
     "text": [
      "[2 4 6]\n",
      "[0.5 1.  1.5]\n",
      "[3 4 5]\n",
      "[1 4 9]\n"
     ]
    }
   ],
   "source": [
    "# A scalar refers to either an int or float\n",
    "# We can do many common operations with \n",
    "\n",
    "print(vec_a * 2)\n",
    "print(vec_a / 2)\n",
    "print(vec_a + 2)\n",
    "print(vec_a ** 2)"
   ]
  },
  {
   "attachments": {},
   "cell_type": "markdown",
   "metadata": {},
   "source": [
    "<font size = \"5\">\n",
    "Element-by-element addition between two arrays of the same size\n",
    "\n",
    "$\\text{ }$\n",
    "\n",
    "$ a + b = \\begin{pmatrix} a_1 \\\\ a_2 \\\\ a_3 \\end{pmatrix} +\n",
    "          \\begin{pmatrix} b_1 \\\\ b_2 \\\\ b_3 \\end{pmatrix} =\n",
    "          \\begin{pmatrix} a_1 + b_1 \\\\ a_2 + b_2 \\\\ a_3 + b_3 \\end{pmatrix}$"
   ]
  },
  {
   "cell_type": "code",
<<<<<<< HEAD
   "execution_count": 11,
=======
   "execution_count": 15,
>>>>>>> e27c0eca97472415d050b2283cc07e60dbe3d0af
   "metadata": {},
   "outputs": [
    {
     "name": "stdout",
     "output_type": "stream",
     "text": [
      "[1 2 3]\n",
      "[0 1 0]\n"
     ]
    }
   ],
   "source": [
    "print(vec_a)\n",
    "print(vec_b)"
   ]
  },
  {
   "cell_type": "code",
<<<<<<< HEAD
   "execution_count": 12,
=======
   "execution_count": 16,
>>>>>>> e27c0eca97472415d050b2283cc07e60dbe3d0af
   "metadata": {},
   "outputs": [
    {
     "name": "stdout",
     "output_type": "stream",
     "text": [
      "[1 3 3]\n"
     ]
    }
   ],
   "source": [
    "# When you add two arrays of the same size,\n",
    "# Python adds the individual elements in each position\n",
    "\n",
    "print(vec_a + vec_b)\n"
   ]
  },
  {
   "attachments": {},
   "cell_type": "markdown",
   "metadata": {},
   "source": [
    "<font size =\"5\">\n",
    "\n",
    "The default multiplication option is element-by element:\n",
    "\n",
    "$ a * b = \\begin{pmatrix} a_1 * b_1 \\\\ a_2 * b_2 \\\\ a_3 * b_3 \\end{pmatrix}$"
   ]
  },
  {
   "cell_type": "code",
<<<<<<< HEAD
   "execution_count": 13,
=======
   "execution_count": 17,
>>>>>>> e27c0eca97472415d050b2283cc07e60dbe3d0af
   "metadata": {},
   "outputs": [
    {
     "name": "stdout",
     "output_type": "stream",
     "text": [
      "[0 2 0]\n",
      "[1 1 3]\n",
      "[inf  2. inf]\n"
     ]
    },
    {
     "name": "stderr",
     "output_type": "stream",
     "text": [
<<<<<<< HEAD
      "/var/folders/sz/xtd7y1057fndwvp6rphkqsz80000gn/T/ipykernel_2391/3839639845.py:6: RuntimeWarning: divide by zero encountered in divide\n",
=======
      "/var/folders/1b/jzb9ndz97b5260fzr9d8kzyh5f7xd6/T/ipykernel_29828/3839639845.py:6: RuntimeWarning: divide by zero encountered in true_divide\n",
>>>>>>> e27c0eca97472415d050b2283cc07e60dbe3d0af
      "  print(vec_a / vec_b)\n"
     ]
    }
   ],
   "source": [
    "# We can do other similar element-by-element operations\n",
    "# such as multiplication, subtraction, and division.\n",
    "\n",
    "print(vec_a * vec_b)\n",
    "print(vec_a - vec_b)\n",
    "print(vec_a / vec_b)\n"
   ]
  },
  {
   "attachments": {},
   "cell_type": "markdown",
   "metadata": {},
   "source": [
    "<font size = \"5\">\n",
    "Summary statistics of an array"
   ]
  },
  {
   "cell_type": "code",
<<<<<<< HEAD
   "execution_count": 14,
=======
   "execution_count": 18,
>>>>>>> e27c0eca97472415d050b2283cc07e60dbe3d0af
   "metadata": {},
   "outputs": [
    {
     "name": "stdout",
     "output_type": "stream",
     "text": [
      "2.0\n",
      "0.816496580927726\n",
      "1\n",
      "2.0\n",
      "3\n"
     ]
    }
   ],
   "source": [
    "# The function np.mean() computes the mean of an array\n",
    "# We can do similar operations for the standard deviation (std),\n",
    "# the minimum (min), the median (median), and the maximum (max).\n",
    "\n",
    "print(np.mean(vec_a))\n",
    "print(np.std(vec_a))\n",
    "print(np.min(vec_a))\n",
    "print(np.median(vec_a))\n",
    "print(np.max(vec_a))"
   ]
  },
  {
   "attachments": {},
   "cell_type": "markdown",
   "metadata": {},
   "source": [
    "<font size = \"5\">\n",
    "\n",
    "Try it yourself! Compute the mean of\n",
    "\n",
    "\n",
    "$ e = \\begin{pmatrix} 10 \\\\ 8 \\\\ 15 \\\\ 0 \\\\ 24 \\end{pmatrix} $"
   ]
  },
  {
<<<<<<< HEAD
   "cell_type": "markdown",
   "metadata": {},
   "source": [
    "# Create your own array and compute any of the above summary statistics\n",
    "\n",
=======
   "cell_type": "code",
   "execution_count": 19,
   "metadata": {},
   "outputs": [
    {
     "data": {
      "text/plain": [
       "11.4"
      ]
     },
     "execution_count": 19,
     "metadata": {},
     "output_type": "execute_result"
    }
   ],
   "source": [
    "# Create your own array and compute any of the above summary statistics\n",
    "\n",
    "e = np.array( [10,8,15,0,24] )\n",
    "\n",
    "np.mean(e)\n",
    "\n",
>>>>>>> e27c0eca97472415d050b2283cc07e60dbe3d0af
    "\n"
   ]
  },
  {
   "cell_type": "code",
   "execution_count": 19,
   "metadata": {},
   "outputs": [
    {
     "name": "stdout",
     "output_type": "stream",
     "text": [
      "11.4\n",
      "10.0\n",
      "24\n"
     ]
    }
   ],
   "source": [
    "vec_e = np.array([10, 8, 15, 0, 24])\n",
    "print(np.mean(vec_e))\n",
    "print(np.median(vec_e))\n",
    "print(np.max(vec_e))"
   ]
  },
  {
   "attachments": {},
   "cell_type": "markdown",
   "metadata": {},
   "source": [
    "<font size = \"5\">\n",
    "<span style=\"color:red\"> Common Pitfall </span>: Make sure that the arrays have the same size"
   ]
  },
  {
   "cell_type": "code",
   "execution_count": 20,
   "metadata": {},
   "outputs": [
    {
     "name": "stdout",
     "output_type": "stream",
     "text": [
      "[1 2 3]\n",
      "[  10  100 1000 2000 5000]\n"
     ]
    }
   ],
   "source": [
    "print(vec_a)\n",
    "print(vec_c)"
   ]
  },
  {
   "cell_type": "code",
   "execution_count": 21,
   "metadata": {},
   "outputs": [
    {
     "data": {
      "text/plain": [
       "(3,)"
      ]
     },
     "execution_count": 21,
     "metadata": {},
     "output_type": "execute_result"
    }
   ],
   "source": [
    "vec_a.shape"
   ]
  },
  {
   "cell_type": "code",
   "execution_count": 22,
   "metadata": {},
   "outputs": [
    {
     "ename": "ValueError",
     "evalue": "operands could not be broadcast together with shapes (3,) (5,) ",
     "output_type": "error",
     "traceback": [
      "\u001b[0;31m---------------------------------------------------------------------------\u001b[0m",
      "\u001b[0;31mValueError\u001b[0m                                Traceback (most recent call last)",
<<<<<<< HEAD
      "Cell \u001b[0;32mIn[22], line 3\u001b[0m\n\u001b[1;32m      1\u001b[0m \u001b[38;5;66;03m# Here I try to combine two arrays of different size.\u001b[39;00m\n\u001b[0;32m----> 3\u001b[0m vec_a \u001b[38;5;241m+\u001b[39m vec_c\n",
=======
      "\u001b[0;32m/var/folders/1b/jzb9ndz97b5260fzr9d8kzyh5f7xd6/T/ipykernel_29828/3893591031.py\u001b[0m in \u001b[0;36m<module>\u001b[0;34m\u001b[0m\n\u001b[1;32m      1\u001b[0m \u001b[0;31m# Here I try to combine two arrays of different size.\u001b[0m\u001b[0;34m\u001b[0m\u001b[0;34m\u001b[0m\u001b[0m\n\u001b[1;32m      2\u001b[0m \u001b[0;34m\u001b[0m\u001b[0m\n\u001b[0;32m----> 3\u001b[0;31m \u001b[0mvec_a\u001b[0m \u001b[0;34m+\u001b[0m \u001b[0mvec_c\u001b[0m\u001b[0;34m\u001b[0m\u001b[0;34m\u001b[0m\u001b[0m\n\u001b[0m",
>>>>>>> e27c0eca97472415d050b2283cc07e60dbe3d0af
      "\u001b[0;31mValueError\u001b[0m: operands could not be broadcast together with shapes (3,) (5,) "
     ]
    }
   ],
   "source": [
    "# Here I try to combine two arrays of different size.\n",
    "\n",
    "vec_a + vec_c"
   ]
  },
  {
   "attachments": {},
   "cell_type": "markdown",
   "metadata": {},
   "source": [
    "##  <span style=\"color:darkblue\"> IV. Random Numbers </span>\n",
    "\n",
    "<font size = \"5\">\n",
    "\n",
    "Why randomness?\n",
    "\n",
    "- Simulate different scenarios: high risk or low risk\n",
    "- Study properties of a complex system and/or estimator\n",
    "- In medicine, randomly assign subjects to treatment or control"
   ]
  },
  {
   "attachments": {},
   "cell_type": "markdown",
   "metadata": {},
   "source": [
    "<font size = \"5\">\n",
    "\n",
    "Create a vector of random variables"
   ]
  },
  {
   "cell_type": "code",
<<<<<<< HEAD
   "execution_count": 25,
=======
   "execution_count": 37,
>>>>>>> e27c0eca97472415d050b2283cc07e60dbe3d0af
   "metadata": {},
   "outputs": [
    {
     "name": "stdout",
     "output_type": "stream",
     "text": [
<<<<<<< HEAD
      "[ 0.17160937  0.77737982  0.22990096 -2.09525675  0.40124607  0.37405209\n",
      " -1.0375328   0.60706767 -1.96616759 -0.76771216]\n"
=======
      "[ 0.28904557 -0.34259521 -1.53873514  1.95141492 -0.25062358 -0.32367552\n",
      " -0.68196447 -1.70393137 -0.43218152 -1.26016168]\n"
>>>>>>> e27c0eca97472415d050b2283cc07e60dbe3d0af
     ]
    }
   ],
   "source": [
    "# This code creates a vector of random variables \n",
    "# generated from a normal distribution with\n",
    "# mean \"loc\" (location) and standard deviation \"scale\"\n",
    "# the number of distinct variabels is \"size\"\n",
    "\n",
    "randomvar_a = np.random.normal(loc=0, scale=1, size=10)\n",
    "print(randomvar_a)"
   ]
  },
  {
   "attachments": {},
   "cell_type": "markdown",
   "metadata": {},
   "source": [
    "<font size = \"5\">\n",
    "\n",
    "Random numbers differ every time!\n",
    "\n",
    "- Avoid this problem by drawing from a \"pregenerated\" set.\n",
    "- This is called a seed"
   ]
  },
  {
   "cell_type": "code",
<<<<<<< HEAD
   "execution_count": 27,
=======
   "execution_count": 56,
>>>>>>> e27c0eca97472415d050b2283cc07e60dbe3d0af
   "metadata": {},
   "outputs": [
    {
     "name": "stdout",
     "output_type": "stream",
     "text": [
<<<<<<< HEAD
      "[ 1.11417929  1.44487377  0.26473752 -0.41701187 -1.71332341 -0.20751871\n",
      " -0.2088598  -1.03876599 -0.15437717 -0.67879554]\n"
=======
      "[ 1.3315865   0.71527897 -1.54540029 -0.00838385  0.62133597 -0.72008556\n",
      "  0.26551159  0.10854853  0.00429143 -0.17460021]\n"
>>>>>>> e27c0eca97472415d050b2283cc07e60dbe3d0af
     ]
    }
   ],
   "source": [
    "# Your computer will typically generate different numbers every time you run a command\n",
    "# However, sometimes you want to be able to replicate the results\n",
    "# You can choose any other number instead of \"12345\". This will produce another set\n",
    "# of random numbers, but they will give the same answers\n",
    "\n",
    "np.random.seed(103931)\n",
    "\n",
    "random_var_b = np.random.normal(loc=0, scale=1, size=10)\n",
    "print(random_var_b)"
   ]
  },
  {
   "attachments": {},
   "cell_type": "markdown",
   "metadata": {},
   "source": [
    "<font size = \"5\">\n",
    "\n",
    "Compute a histogram with the results"
   ]
  },
  {
   "cell_type": "code",
<<<<<<< HEAD
   "execution_count": 30,
=======
   "execution_count": 58,
>>>>>>> e27c0eca97472415d050b2283cc07e60dbe3d0af
   "metadata": {},
   "outputs": [
    {
     "data": {
      "text/plain": [
       "Text(0, 0.5, 'Frequency')"
      ]
     },
<<<<<<< HEAD
     "execution_count": 30,
=======
     "execution_count": 58,
>>>>>>> e27c0eca97472415d050b2283cc07e60dbe3d0af
     "metadata": {},
     "output_type": "execute_result"
    },
    {
     "data": {
<<<<<<< HEAD
      "image/png": "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",
=======
      "image/png": "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",
>>>>>>> e27c0eca97472415d050b2283cc07e60dbe3d0af
      "text/plain": [
       "<Figure size 640x480 with 1 Axes>"
      ]
     },
     "metadata": {},
     "output_type": "display_data"
    }
   ],
   "source": [
    "# Compute a histogram\n",
    "# You can edit the number of bins with plt.hist(x = randomvar_a)\n",
    "\n",
    "randomvar_x = np.random.normal(loc=0, scale=1, size=1000)\n",
    "\n",
    "plt.hist(x = randomvar_x)\n",
    "plt.xlabel(\"Variable a\")\n",
    "plt.ylabel(\"Frequency\")"
   ]
  },
  {
   "attachments": {},
   "cell_type": "markdown",
   "metadata": {},
   "source": [
    "<font size = \"5\">\n",
    "\n",
    "Try this again with $size = 100, 1000, 10000$"
   ]
  },
  {
   "cell_type": "code",
<<<<<<< HEAD
   "execution_count": 33,
=======
   "execution_count": 64,
>>>>>>> e27c0eca97472415d050b2283cc07e60dbe3d0af
   "metadata": {},
   "outputs": [
    {
     "data": {
      "text/plain": [
       "Text(0, 0.5, 'Frequency')"
      ]
     },
<<<<<<< HEAD
     "execution_count": 33,
=======
     "execution_count": 64,
>>>>>>> e27c0eca97472415d050b2283cc07e60dbe3d0af
     "metadata": {},
     "output_type": "execute_result"
    },
    {
     "data": {
<<<<<<< HEAD
      "image/png": "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",
=======
      "image/png": "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",
>>>>>>> e27c0eca97472415d050b2283cc07e60dbe3d0af
      "text/plain": [
       "<Figure size 640x480 with 1 Axes>"
      ]
     },
     "metadata": {},
     "output_type": "display_data"
    }
   ],
   "source": [
    "# Write the code for your histogram\n",
    "\n",
    "# Compute a histogram\n",
    "# You can edit the number of bins with plt.hist(x = randomvar_a)\n",
    "\n",
    "randomvar_x = np.random.normal(loc=0, scale=1, size=10000)\n",
    "\n",
    "plt.hist(x = randomvar_x)\n",
    "plt.xlabel(\"Variable a\")\n",
<<<<<<< HEAD
=======
    "\n",
>>>>>>> e27c0eca97472415d050b2283cc07e60dbe3d0af
    "plt.ylabel(\"Frequency\")\n",
    "\n"
   ]
  },
  {
   "attachments": {},
   "cell_type": "markdown",
   "metadata": {},
   "source": [
    "# <span style=\"color:darkblue\"> Additional Resources </span>\n",
    "\n",
    "<font size=\"5\"> \n",
    "\n",
    "Check out additional examples at:\n",
    "\n",
    "- https://allendowney.github.io/ElementsOfDataScience/03_arrays.html\n",
    "\n",
    "\n"
   ]
  },
  {
   "cell_type": "markdown",
   "metadata": {},
   "source": [
    "<font size = \"20\">\n",
    "\n",
    "asdasd\n"
   ]
  },
  {
   "attachments": {},
   "cell_type": "markdown",
   "metadata": {},
   "source": [
    "# <span style=\"color:darkblue\"> (Optional) Matrix Operations </span>\n",
    "\n",
    "<font size=\"5\"> \n"
   ]
  },
  {
   "attachments": {},
   "cell_type": "markdown",
   "metadata": {},
   "source": [
    "<font size = \"5\">\n",
    "Creating a matrix by stacking different rows\n",
    "\n",
    "$ \\text{ }$\n",
    "\n",
    "$ X = \\begin{pmatrix} 1 & 2 & 3 \\\\ \n",
    "                       0 & 4 & 5 \\\\\n",
    "                       0 & 0 & 6\n",
    "                       \\end{pmatrix} $"
   ]
  },
  {
   "cell_type": "code",
<<<<<<< HEAD
   "execution_count": 34,
=======
   "execution_count": 65,
>>>>>>> e27c0eca97472415d050b2283cc07e60dbe3d0af
   "metadata": {},
   "outputs": [
    {
     "name": "stdout",
     "output_type": "stream",
     "text": [
      "[[1 2 3]\n",
      " [0 4 5]\n",
      " [0 0 6]]\n"
     ]
    }
   ],
   "source": [
    "# Matrices are usually denoted by capital letters\n",
    "# The object [[1,2,3],[4,5,6],[7,8,9]] is a list of lists\n",
    "# It's useful to maintain this notation in the code as well\n",
    "\n",
    "X = np.array([[1,2,3],[0,4,5],[0,0,6]])\n",
    "print(X)"
   ]
  },
  {
   "attachments": {},
   "cell_type": "markdown",
   "metadata": {},
   "source": [
    "<font size = \"5\">\n",
    "Creating a matrix by stacking different columns\n",
    "\n",
    "$ \\text{ } $\n",
    "\n",
    "$ Y = \\begin{pmatrix} 1 & 2 \\\\ 0 & 1 \\\\ 1 & 0 \\end{pmatrix}$"
   ]
  },
  {
   "cell_type": "code",
   "execution_count": 35,
   "metadata": {},
   "outputs": [
    {
     "name": "stdout",
     "output_type": "stream",
     "text": [
      "[[1 2]\n",
      " [0 1]\n",
      " [1 0]]\n"
     ]
    }
   ],
   "source": [
    "# You can also stack columns\n",
    "Y =  np.column_stack([[1,0,1],[2,1,0]])\n",
    "print(Y)"
   ]
  },
  {
   "attachments": {},
   "cell_type": "markdown",
   "metadata": {},
   "source": [
    "<font size = \"5\">\n",
    "Transpose\n",
    "\n",
    "$ \\text{ }$\n",
    "\n",
    "$ Y' = \\begin{pmatrix}  1 & 0 & 1 \\\\ 2 & 1 & 0  \\end{pmatrix} $"
   ]
  },
  {
   "cell_type": "code",
   "execution_count": 36,
   "metadata": {},
   "outputs": [
    {
     "data": {
      "text/plain": [
       "array([[1, 0, 1],\n",
       "       [2, 1, 0]])"
      ]
     },
     "execution_count": 36,
     "metadata": {},
     "output_type": "execute_result"
    }
   ],
   "source": [
    "# Matrix Transpose\n",
    "np.matrix.transpose(Y)"
   ]
  },
  {
   "attachments": {},
   "cell_type": "markdown",
   "metadata": {},
   "source": [
    "<font size = \"5\">\n",
    "\n",
    "Matrix multiplication\n",
    "\n",
    "$ XY = \\begin{pmatrix} 1 & 2 & 3 \\\\ \n",
    "                       0 & 4 & 5 \\\\\n",
    "                       0 & 0 & 6\n",
    "                       \\end{pmatrix}\n",
    "                       \\begin{pmatrix} 1 & 2 \\\\ 0 & 1 \\\\ 1 & 0 \\end{pmatrix} = \n",
    "        \\begin{pmatrix} 4 & 4 \\\\ 5 & 4 \\\\ 6 & 0 \\end{pmatrix} $"
   ]
  },
  {
   "cell_type": "code",
   "execution_count": 38,
   "metadata": {},
   "outputs": [
    {
     "data": {
      "text/plain": [
       "array([[4, 4],\n",
       "       [5, 4],\n",
       "       [6, 0]])"
      ]
     },
     "execution_count": 38,
     "metadata": {},
     "output_type": "execute_result"
    }
   ],
   "source": [
    "# Matrix Multiplication\n",
    "\n",
    "np.dot(X,Y)\n",
    "\n",
    "np.matmul(X,Y)"
   ]
  },
  {
   "attachments": {},
   "cell_type": "markdown",
   "metadata": {},
   "source": [
    "<font size = \"5\">\n",
    "\n",
    "Matrix inverse\n",
    "\n",
    "$ X^{-1} = \\begin{pmatrix} 1 & 2 & 3 \\\\ \n",
    "                       0 & 4 & 5 \\\\\n",
    "                       0 & 0 & 6\n",
    "                       \\end{pmatrix}^{-1} $"
   ]
  },
  {
   "cell_type": "code",
   "execution_count": null,
   "metadata": {},
   "outputs": [],
   "source": [
    "# Check the determinant of a matrix (a matrix is invertible if the determinant is not zero)\n",
    "print(np.linalg.det(X))\n",
    "\n",
    "# Matrix inverse\n",
    "# The following command stands for linear algebrar inverse.\n",
    "X_inv = np.linalg.inv(X)\n",
    "\n",
    "# Output the result\n",
    "print(X_inv)\n"
   ]
  },
  {
   "attachments": {},
   "cell_type": "markdown",
   "metadata": {},
   "source": [
    "<font size = \"5\">\n",
    "\n",
    "Try it yourself! Check that this is indeed an inverse:\n",
    "\n",
    "$X X_{inv} = \\begin{pmatrix} 1 & 0 & 0 \\\\ 0 & 1 & 0 \\\\ 0 & 0 & 1 \\end{pmatrix}$"
   ]
  },
  {
   "cell_type": "code",
   "execution_count": 40,
   "metadata": {},
   "outputs": [
    {
     "name": "stdout",
     "output_type": "stream",
     "text": [
      "[[1. 0. 0.]\n",
      " [0. 1. 0.]\n",
      " [0. 0. 1.]]\n"
     ]
    }
   ],
   "source": [
    "# Multiply \"X\" times \"X_inv\" using the command shown above\n",
    "# Note: Sometimes the result is shown in scientific notation.\n",
    "\n",
    "X = np.array([[1,0,0], [0,1,0], [0,0,1]])\n",
    "X_inv = np.linalg.inv(X)\n",
    "\n",
    "print(np.matmul(X,X_inv))\n",
    "\n"
   ]
  }
 ],
 "metadata": {
  "kernelspec": {
   "display_name": "base",
   "language": "python",
   "name": "python3"
  },
  "language_info": {
   "codemirror_mode": {
    "name": "ipython",
    "version": 3
   },
   "file_extension": ".py",
   "mimetype": "text/x-python",
   "name": "python",
   "nbconvert_exporter": "python",
   "pygments_lexer": "ipython3",
<<<<<<< HEAD
   "version": "3.11.5"
=======
   "version": "3.9.13"
>>>>>>> e27c0eca97472415d050b2283cc07e60dbe3d0af
  },
  "orig_nbformat": 4,
  "vscode": {
   "interpreter": {
    "hash": "45fc1f684f6f416f40889115beff3ddf69879b64cf4bfee48cb72a61e9d15d1a"
   }
  }
 },
 "nbformat": 4,
 "nbformat_minor": 2
}
